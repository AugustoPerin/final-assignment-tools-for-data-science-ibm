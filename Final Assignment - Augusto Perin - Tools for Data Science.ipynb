{
 "cells": [
  {
   "cell_type": "markdown",
   "metadata": {},
   "source": [
    "###  <span style=\"color:#FFA600\">Exercise 2</span>.\n",
    "\n",
    "\n",
    "# Final Assignment - Tools for Data Science - IBM and Coursera"
   ]
  },
  {
   "cell_type": "markdown",
   "metadata": {},
   "source": [
    "###  <span style=\"color:#FFA600\">Exercise 3</span>.\n",
    "\n",
    "### Creator: Augusto Perin. Data Analyst\n",
    "\n",
    "#### This is my Jupyter Notebook where I going to fullfil the 13 Exercises of the work"
   ]
  },
  {
   "cell_type": "markdown",
   "metadata": {},
   "source": [
    "###  <span style=\"color:#FFA600\">Exercise 4</span>.\n",
    "\n",
    "#### Data Science Languages: Python and R"
   ]
  },
  {
   "cell_type": "markdown",
   "metadata": {},
   "source": [
    "###  <span style=\"color:#FFA600\">Exercise 5</span>.\n",
    "\n",
    "#### Data Science Libraries: Pandas, Scikit-Learn, TensorFlow, Keras, Seaborn, Matplotlib, Shiny, Dplyr, tidyr and ggplot2"
   ]
  },
  {
   "cell_type": "markdown",
   "metadata": {},
   "source": [
    "###  <span style=\"color:#FFA600\">Exercise 6</span>.\n",
    "\n",
    "| Tool         | Utility                                                                                                      |\n",
    "|--------------|--------------------------------------------------------------------------------------------------------------|\n",
    "| TensorFlow   | advanced tensor manipulation and together with its Keras API can develop advanced neural networks            |\n",
    "| Scikit-Learn | Library for machine-learning, has several tools for the most diverse approaches, supervised and unsupervised |\n",
    "| Pandas       | High-level manipulation of dataframes, for aggregation, simplification, joining, merging, etc.               |"
   ]
  },
  {
   "cell_type": "markdown",
   "metadata": {},
   "source": [
    "###  <span style=\"color:#FFA600\">Exercise 7</span>.\n",
    "\n",
    "#### An arithmetic expression can be easily performed in Python, for example:\n",
    "\n",
    "a = 6\n",
    "\n",
    "b = 3\n",
    "\n",
    "c = 2\n",
    "\n",
    "d = a + b # a plus b = 9\n",
    "\n",
    "e = d - c # e minus c = 7\n",
    "\n",
    "f = d * e # d times e = 63\n",
    "\n",
    "g = f / b # f divided by b = 21\n",
    "\n",
    "\n",
    "print(a) # 6\n",
    "\n",
    "print(d) # 9\n",
    "\n",
    "print(e) # 7\n",
    "\n",
    "print(f) # 63\n",
    "\n",
    "print(g) # 21.0"
   ]
  },
  {
   "cell_type": "markdown",
   "metadata": {},
   "source": [
    "###  <span style=\"color:#FFA600\">Exercise 8</span>."
   ]
  },
  {
   "cell_type": "code",
   "execution_count": 3,
   "metadata": {},
   "outputs": [
    {
     "name": "stdout",
     "output_type": "stream",
     "text": [
      "6\n",
      "9\n",
      "7\n",
      "63\n",
      "21.0\n"
     ]
    }
   ],
   "source": [
    "a = 6\n",
    "\n",
    "b = 3\n",
    "\n",
    "c = 2\n",
    "\n",
    "d = a + b # a plus b = 9\n",
    "\n",
    "e = d - c # e minus c = 7\n",
    "\n",
    "f = d * e # d times e = 63\n",
    "\n",
    "g = f / b # f divided by b = 21\n",
    "\n",
    "print(a) # 6\n",
    "print(d) # 9\n",
    "print(e) # 7\n",
    "print(f) # 63\n",
    "print(g) # 21.0"
   ]
  },
  {
   "cell_type": "markdown",
   "metadata": {},
   "source": [
    "###  <span style=\"color:#FFA600\">Exercise 9</span>."
   ]
  },
  {
   "cell_type": "code",
   "execution_count": 1,
   "metadata": {},
   "outputs": [
    {
     "name": "stdout",
     "output_type": "stream",
     "text": [
      "300.0 minutes is equal to 5.0 hours.\n"
     ]
    }
   ],
   "source": [
    "# Input: Number of minutes\n",
    "minutes = float(input(\"Enter the number of minutes: \"))\n",
    "\n",
    "# Convert minutes to hours\n",
    "hours = minutes / 60\n",
    "\n",
    "# Output the result\n",
    "print(f\"{minutes} minutes is equal to {hours} hours.\")"
   ]
  },
  {
   "cell_type": "markdown",
   "metadata": {},
   "source": [
    "###  <span style=\"color:#FFA600\">Exercise 10</span>.\n",
    "\n",
    "#### The objectives of this notebook are to demonstrate the knowledge I acquired in IBM's Tools for Data Science course together with Coursera"
   ]
  },
  {
   "cell_type": "markdown",
   "metadata": {},
   "source": [
    "###  <span style=\"color:#FFA600\">Exercise 11</span>.\n",
    "\n",
    "#### Author's name: Augusto Perin"
   ]
  },
  {
   "cell_type": "markdown",
   "metadata": {},
   "source": [
    "###  <span style=\"color:#FFA600\">Exercise 12</span>.\n",
    "\n",
    "#### Link for my notebook on my Github: https://github.com/AugustoPerin/final-assignment-tools-for-data-science-ibm/blob/main/Final%20Assignment%20-%20Augusto%20Perin%20-%20Tools%20for%20Data%20Science.ipynb"
   ]
  },
  {
   "cell_type": "markdown",
   "metadata": {},
   "source": [
    "###  <span style=\"color:#FFA600\">Exercise 13</span>.\n",
    "\n",
    "![Alt text](image.png)"
   ]
  }
 ],
 "metadata": {
  "kernelspec": {
   "display_name": "Python 3",
   "language": "python",
   "name": "python3"
  },
  "language_info": {
   "codemirror_mode": {
    "name": "ipython",
    "version": 3
   },
   "file_extension": ".py",
   "mimetype": "text/x-python",
   "name": "python",
   "nbconvert_exporter": "python",
   "pygments_lexer": "ipython3",
   "version": "3.11.4"
  },
  "orig_nbformat": 4
 },
 "nbformat": 4,
 "nbformat_minor": 2
}
